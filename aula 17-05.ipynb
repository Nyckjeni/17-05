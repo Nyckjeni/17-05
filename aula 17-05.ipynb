{
 "cells": [
  {
   "cell_type": "code",
   "execution_count": 1,
   "metadata": {},
   "outputs": [
    {
     "name": "stdout",
     "output_type": "stream",
     "text": [
      "5 Patinhos foram passear, além das montanhas para brincar, a mamãe gritou quá, quá, quá,  mas só 4 voltaram de lá\n",
      "4 Patinhos foram passear, além das montanhas para brincar, a mamãe gritou quá, quá, quá,  mas só 3 voltaram de lá\n",
      "3 Patinhos foram passear, além das montanhas para brincar, a mamãe gritou quá, quá, quá,  mas só 2 voltaram de lá\n",
      "2 Patinhos foram passear, além das montanhas para brincar, a mamãe gritou quá, quá, quá,  mas só 1 voltaram de lá\n",
      "1 Patinhos foram passear, além das montanhas para brincar, a mamãe gritou quá, quá, quá,  mas só 0 voltaram de lá\n"
     ]
    }
   ],
   "source": [
    "for patinhos in [5,4,3,2,1]:\n",
    "    print(patinhos,'Patinhos foram passear, além das montanhas para brincar, a mamãe gritou quá, quá, quá,  mas só', patinhos-1,'voltaram de lá')"
   ]
  },
  {
   "cell_type": "code",
   "execution_count": 4,
   "metadata": {},
   "outputs": [
    {
     "name": "stdout",
     "output_type": "stream",
     "text": [
      "11 X 1 = 11\n",
      "11 X 2 = 22\n",
      "11 X 3 = 33\n",
      "11 X 4 = 44\n",
      "11 X 5 = 55\n",
      "11 X 6 = 66\n",
      "11 X 7 = 77\n",
      "11 X 8 = 88\n",
      "11 X 9 = 99\n",
      "11 X 10 = 110\n"
     ]
    }
   ],
   "source": [
    "numero= int(input('Digite um número:'))\n",
    "\n",
    "for tabuada in[2,3,4,5,6,7,8,9,10,11]:\n",
    "    print(numero,'X', tabuada-1,'=', numero*(tabuada-1))"
   ]
  }
 ],
 "metadata": {
  "kernelspec": {
   "display_name": "Python 3",
   "language": "python",
   "name": "python3"
  },
  "language_info": {
   "codemirror_mode": {
    "name": "ipython",
    "version": 3
   },
   "file_extension": ".py",
   "mimetype": "text/x-python",
   "name": "python",
   "nbconvert_exporter": "python",
   "pygments_lexer": "ipython3",
   "version": "3.12.0"
  }
 },
 "nbformat": 4,
 "nbformat_minor": 2
}
